{
  "cells": [
    {
      "cell_type": "markdown",
      "metadata": {
        "id": "view-in-github",
        "colab_type": "text"
      },
      "source": [
        "<a href=\"https://colab.research.google.com/github/nishithewel/EMSentiment/blob/main/main.ipynb\" target=\"_parent\"><img src=\"https://colab.research.google.com/assets/colab-badge.svg\" alt=\"Open In Colab\"/></a>"
      ]
    },
    {
      "cell_type": "code",
      "source": [
        "!git clone https://github.com/nishithewel/ID5059GroupProject.git"
      ],
      "metadata": {
        "id": "PaV8oqnO6kQW",
        "colab": {
          "base_uri": "https://localhost:8080/"
        },
        "outputId": "b3ae6c96-1080-4b8d-a9da-e734d753e192"
      },
      "execution_count": 1,
      "outputs": [
        {
          "output_type": "stream",
          "name": "stdout",
          "text": [
            "Cloning into 'ID5059GroupProject'...\n",
            "remote: Enumerating objects: 308, done.\u001b[K\n",
            "remote: Counting objects: 100% (308/308), done.\u001b[K\n",
            "remote: Compressing objects: 100% (240/240), done.\u001b[K\n",
            "remote: Total 308 (delta 169), reused 140 (delta 67), pack-reused 0\u001b[K\n",
            "Receiving objects: 100% (308/308), 14.76 MiB | 11.29 MiB/s, done.\n",
            "Resolving deltas: 100% (169/169), done.\n"
          ]
        }
      ]
    },
    {
      "cell_type": "code",
      "source": [
        "# import os \n",
        "# os.chdir('/content/ID5059GroupProject')\n",
        "# ! git pull"
      ],
      "metadata": {
        "id": "oDruvEAwl-X5"
      },
      "execution_count": 2,
      "outputs": []
    },
    {
      "cell_type": "markdown",
      "source": [
        "### Downloading the Data from kaggle."
      ],
      "metadata": {
        "id": "29l0EzjK5k2b"
      }
    },
    {
      "cell_type": "code",
      "execution_count": 3,
      "metadata": {
        "id": "9cR9JURfP6Gs"
      },
      "outputs": [],
      "source": [
        "\n",
        "# !pip install -q kaggle\n",
        "# from google.colab import files\n",
        "# files.upload()\n",
        "# !rm -rf sample_data\n",
        "# !mkdir  -p /root/.kaggle/\n",
        "# !mv kaggle.json  /root/.kaggle/\n",
        "# !chmod 600 /root/.kaggle/kaggle.json\n",
        "# !ls -lart /root/.kaggle/\n",
        "# !kaggle competitions download -c 'ieee-fraud-detection'\n",
        "# !mkdir data\n",
        "# !mv ieee-fraud-detection.zip data/\n",
        "# !unzip data/ieee-fraud-detection.zip -d data/"
      ]
    },
    {
      "cell_type": "markdown",
      "metadata": {
        "id": "tPqFgUOESMBt"
      },
      "source": [
        "## Introduction to the Dataset\n",
        "\n",
        " - Vivesh "
      ]
    },
    {
      "cell_type": "markdown",
      "metadata": {
        "id": "lmzwh08RSizC"
      },
      "source": [
        "### Team Members\n",
        "- Nishithe Welandawe - naw4\n",
        "- Joseph Edwards - jde1\n",
        "- Anli Hu - 373\n",
        "- Yao-Ting Wang - ytw1\n",
        "-\n"
      ]
    },
    {
      "cell_type": "markdown",
      "metadata": {
        "id": "B1lBgJxYSZNQ"
      },
      "source": [
        "### Installs and Imports"
      ]
    },
    {
      "cell_type": "code",
      "execution_count": 4,
      "metadata": {
        "colab": {
          "base_uri": "https://localhost:8080/"
        },
        "id": "kLCJlNf8Hq4G",
        "outputId": "a16958c0-96e3-4671-fa42-0aee3841aaee"
      },
      "outputs": [
        {
          "output_type": "stream",
          "name": "stdout",
          "text": [
            "Requirement already satisfied: imblearn in /usr/local/lib/python3.7/dist-packages (0.0)\n",
            "Requirement already satisfied: imbalanced-learn in /usr/local/lib/python3.7/dist-packages (from imblearn) (0.8.1)\n",
            "Requirement already satisfied: joblib>=0.11 in /usr/local/lib/python3.7/dist-packages (from imbalanced-learn->imblearn) (1.1.0)\n",
            "Requirement already satisfied: numpy>=1.13.3 in /usr/local/lib/python3.7/dist-packages (from imbalanced-learn->imblearn) (1.21.5)\n",
            "Requirement already satisfied: scikit-learn>=0.24 in /usr/local/lib/python3.7/dist-packages (from imbalanced-learn->imblearn) (1.0.2)\n",
            "Requirement already satisfied: scipy>=0.19.1 in /usr/local/lib/python3.7/dist-packages (from imbalanced-learn->imblearn) (1.4.1)\n",
            "Requirement already satisfied: threadpoolctl>=2.0.0 in /usr/local/lib/python3.7/dist-packages (from scikit-learn>=0.24->imbalanced-learn->imblearn) (3.1.0)\n"
          ]
        }
      ],
      "source": [
        "! pip install imblearn "
      ]
    },
    {
      "cell_type": "code",
      "execution_count": 5,
      "metadata": {
        "id": "5enJhawlOH1u"
      },
      "outputs": [],
      "source": [
        "import os\n",
        "\n",
        "import numpy as np \n",
        "import pandas as pd\n",
        "import matplotlib.pyplot as plt\n",
        "from google.colab import drive\n",
        "\n",
        "os.chdir('/content/ID5059GroupProject')\n",
        "from imblearn import over_sampling\n",
        "from utils.preprocess import preprocess\n",
        "from utils.reduce_memory import reduce_mem_usage\n",
        "from sklearn.model_selection import train_test_split\n",
        "from utils.model_stack import stack_models\n",
        "from utils.diagnositics import get_diagnostics\n",
        "\n",
        "from random import sample\n"
      ]
    },
    {
      "cell_type": "markdown",
      "metadata": {
        "id": "2JitrODFSs8N"
      },
      "source": [
        "### Loading the dataset\n",
        "\n",
        "- Download the dataset from Kaggle and save it the GDrive session.\n",
        "- Due to the large size, to keep loading size down we optimize data types to reduce memory usage.\n",
        "- Merge the Transaction and Identity data set to create the 'Test' set.\n",
        "\n"
      ]
    },
    {
      "cell_type": "code",
      "execution_count": 6,
      "metadata": {
        "id": "AYkvgdPIS_HF",
        "colab": {
          "base_uri": "https://localhost:8080/"
        },
        "outputId": "3a027a9e-ad63-4982-e68b-6261167cdb0d"
      },
      "outputs": [
        {
          "output_type": "stream",
          "name": "stdout",
          "text": [
            "Mounted at /content/drive\n",
            "Memory usage of dataframe is 1519.24 MB\n",
            "Memory usage after optimization is: 425.24 MB\n",
            "Decreased by 72.0%\n",
            "Memory usage of dataframe is 1775.15 MB\n",
            "Memory usage after optimization is: 487.16 MB\n",
            "Decreased by 72.6%\n"
          ]
        }
      ],
      "source": [
        "### You need to change these codes to load your dataset\n",
        "#if youre files are stored in google drive do this\n",
        "DRIVE_STORE = True\n",
        "DEBUG = True\n",
        "if DRIVE_STORE == True:\n",
        "  drive.mount('/content/drive') \n",
        "  root_dir = '/content/drive/MyDrive/Python/ID5059-GroupProject/ieee-fraud-detection/' #for nish\n",
        "  \n",
        "else:\n",
        "  root_dir = '/content/data/'\n",
        "os.chdir(root_dir)\n",
        "\n",
        "if DEBUG:\n",
        "  # test_iden = pd.read_csv(root_dir + 'test_identity.csv',nrows = 100)\n",
        "  # test_tran = pd.read_csv(root_dir +'test_transaction.csv',nrows = 100)\n",
        "  # train_iden = pd.read_csv(root_dir +'train_identity.csv',nrows = 100)\n",
        "  # train_tran = pd.read_csv(root_dir +'train_transaction.csv',nrows = 100)\n",
        "  test_iden = pd.read_csv(root_dir + 'test_identity.csv',)\n",
        "  test_tran = pd.read_csv(root_dir +'test_transaction.csv',)\n",
        "  train_iden = pd.read_csv(root_dir +'train_identity.csv',)\n",
        "  train_tran = pd.read_csv(root_dir +'train_transaction.csv',)\n",
        "\n",
        "test_tran = reduce_mem_usage(test_tran)\n",
        "train_tran = reduce_mem_usage(train_tran)  \n",
        "\n",
        "train = pd.merge(train_tran, train_iden, on = 'TransactionID', how = 'left')\n",
        "test = pd.merge(test_tran, test_iden, on = 'TransactionID', how = 'left')\n"
      ]
    },
    {
      "cell_type": "markdown",
      "source": [
        "We create a local test to run diagnostics. \\\n",
        "NB the original test dataset did not contain a target variable."
      ],
      "metadata": {
        "id": "9Rdme4sH1g3a"
      }
    },
    {
      "cell_type": "code",
      "source": [
        "test_ind = sample(range(len(train)),\n",
        "                        int(0.8*len(train))\n",
        "                        )\n",
        "#but we need a local test to run diagnostics as well\n",
        "local_test = train.iloc[test_ind]\n",
        "#drop rows from train\n",
        "train = train.drop(test_ind,axis = 0)\n",
        "\n",
        "del train_tran, train_iden, test_iden, test_tran"
      ],
      "metadata": {
        "id": "Jfth8_nJiVAV"
      },
      "execution_count": 7,
      "outputs": []
    },
    {
      "cell_type": "markdown",
      "source": [
        "Test_dataset and train_dataset had a mismatch in the name of id features(id_x,  whereas in the test_dataset id features were of the form id-x). \\\n",
        "\n",
        " So, we changed the format of id features in the test_dataset from id-x to id_x."
      ],
      "metadata": {
        "id": "5k7iNoPKH90W"
      }
    },
    {
      "cell_type": "code",
      "source": [
        "test.columns  = [col.replace('-','_') for col in test.columns]"
      ],
      "metadata": {
        "id": "3KXOFGpIFy6U"
      },
      "execution_count": 8,
      "outputs": []
    },
    {
      "cell_type": "markdown",
      "metadata": {
        "id": "UkstYfcPSxty"
      },
      "source": [
        "## EDA\n",
        "We performed basic analysis on the data.\n",
        "- Visualise target variable distribution.\n",
        "- Correlation - Correlation plot becomes unwieldy due to large covariate space hence is not shown for brevity.\n"
      ]
    },
    {
      "cell_type": "code",
      "execution_count": 9,
      "metadata": {
        "colab": {
          "base_uri": "https://localhost:8080/",
          "height": 281
        },
        "id": "fLn6uqvSOc8C",
        "outputId": "42d50230-7fe5-4fcb-bfc0-25787430cbb7"
      },
      "outputs": [
        {
          "output_type": "display_data",
          "data": {
            "text/plain": [
              "<Figure size 432x288 with 1 Axes>"
            ],
            "image/png": "[encoded data removed]"
          },
          "metadata": {
            "needs_background": "light"
          }
        }
      ],
      "source": [
        "train['isFraud'].value_counts(normalize = True).plot(kind= 'barh')\n",
        "plt.title('% of class')\n",
        "plt.ylabel('isFraud (1 = Fraud)')\n",
        "plt.show()"
      ]
    },
    {
      "cell_type": "markdown",
      "metadata": {
        "id": "wW8YV043Pt05"
      },
      "source": [
        "We find very few instance of Fraud. SO  we consider Class Balancing."
      ]
    },
    {
      "cell_type": "markdown",
      "metadata": {
        "id": "m9YkTe92VOQo"
      },
      "source": [
        "## Feature Preproccessing"
      ]
    },
    {
      "cell_type": "markdown",
      "metadata": {
        "id": "kWxQjGBV7LlZ"
      },
      "source": [
        "Systematically, deal with features by considering the following,\n",
        "- 'M' columns - look like true or false lets convert them to 1, 0\n",
        "- 'D' columns - these are fine all numerical\n",
        "- 'Card' columns - numerical except for 4,6\n",
        "\n",
        "We deal with categorical variables using dummy vars."
      ]
    },
    {
      "cell_type": "code",
      "source": [
        "train.info()"
      ],
      "metadata": {
        "colab": {
          "base_uri": "https://localhost:8080/"
        },
        "id": "BYA4XeSX4KaA",
        "outputId": "ebb966a9-d6f1-4920-9330-690264a03b13"
      },
      "execution_count": 12,
      "outputs": [
        {
          "output_type": "stream",
          "name": "stdout",
          "text": [
            "<class 'pandas.core.frame.DataFrame'>\n",
            "Int64Index: 118108 entries, 0 to 590538\n",
            "Columns: 434 entries, TransactionID to DeviceInfo\n",
            "dtypes: category(14), float16(332), float32(44), float64(23), int16(1), int32(2), int8(1), object(17)\n",
            "memory usage: 134.4+ MB\n"
          ]
        }
      ]
    },
    {
      "cell_type": "code",
      "execution_count": 13,
      "metadata": {
        "id": "IXiN7Plz7K4x"
      },
      "outputs": [],
      "source": [
        "train = preprocess(train)\n",
        "test = preprocess(test)\n",
        "local_test = preprocess(local_test)\n"
      ]
    },
    {
      "cell_type": "markdown",
      "metadata": {
        "id": "HiotT2FWVzQK"
      },
      "source": [
        "\n",
        "What features are we dropping and why?\n",
        "\n",
        "- TransactionID - Only a unique identifier for identity\n",
        "- Id Columns - All Id columns contain at least 75% NaN values \n"
      ]
    },
    {
      "cell_type": "code",
      "source": [
        "id_cols = [col for col in train.columns if col.startswith('id')]\n",
        "df_id = train[id_cols]\n",
        "# df_id.head()\n",
        "nulls = df_id.isnull().sum()/len(df_id) #as a percentage\n",
        "nulls.sort_values(ascending=False).plot.bar(title='NaN as a %')\n",
        "# train.drop(id_cols, axis = 1,inplace = True)"
      ],
      "metadata": {
        "id": "TuaDw4E8Feg5",
        "colab": {
          "base_uri": "https://localhost:8080/",
          "height": 399
        },
        "outputId": "4876abb1-bf41-46d5-f0a9-fbdf8f2d9e7f"
      },
      "execution_count": 14,
      "outputs": [
        {
          "output_type": "execute_result",
          "data": {
            "text/plain": [
              "<matplotlib.axes._subplots.AxesSubplot at 0x7f69969041d0>"
            ]
          },
          "metadata": {},
          "execution_count": 14
        },
        {
          "output_type": "display_data",
          "data": {
            "text/plain": [
              "<Figure size 432x288 with 1 Axes>"
            ],
            "image/png": "[encoded data removed]"
          },
          "metadata": {
            "needs_background": "light"
          }
        }
      ]
    },
    {
      "cell_type": "code",
      "source": [
        "#Run this otherwise might cause ram overflows\n",
        "v_cols = [col for col in train.columns if col.startswith('V')]\n",
        "# # lets ignore the v columns for the time being\n",
        "train.drop(v_cols,axis =1, inplace = True)\n",
        "train.drop(id_cols, axis = 1,inplace = True)\n",
        "test.drop(v_cols,axis =1, inplace = True)\n",
        "test.drop(id_cols, axis = 1,inplace = True)\n",
        "local_test.drop(v_cols,axis =1, inplace = True)\n",
        "local_test.drop(id_cols, axis = 1,inplace = True)"
      ],
      "metadata": {
        "id": "21OQ3_nBg7AS"
      },
      "execution_count": 15,
      "outputs": []
    },
    {
      "cell_type": "markdown",
      "source": [
        ""
      ],
      "metadata": {
        "id": "vRkm6AdIm1Ig"
      }
    },
    {
      "cell_type": "code",
      "source": [
        "categorical_features = list(set(train.columns) - set(train._get_numeric_data().columns))\n",
        "#we get dummy for some features only\n",
        "dummy_cols = [ col for col in categorical_features \n",
        "                    if len(train[col].unique()) < 15]\n",
        "large_cats = list(set(train.columns) - set(train._get_numeric_data()) - set(dummy_cols))"
      ],
      "metadata": {
        "id": "MJEHLPhNYJFV"
      },
      "execution_count": 16,
      "outputs": []
    },
    {
      "cell_type": "code",
      "source": [
        "from sklearn.preprocessing import OneHotEncoder  #the disco import \n",
        "\n",
        "def dummy_transform(df,encoder,col):\n",
        "  new_col = [col+'_' + str(i)  for i in encoder.categories_[0].tolist()]\n",
        "  dummy_arr = encoder.transform(df[col].to_numpy().reshape(-1, 1))\n",
        "  dummy_df = pd.DataFrame(dummy_arr, columns = new_col)\n",
        "\n",
        "  # Allows nice concat-ing\n",
        "  dummy_df.reset_index(drop=True, inplace=True)\n",
        "  df.reset_index(drop=True, inplace=True)\n",
        "  return pd.concat([df, dummy_df],axis =1)\n",
        "\n",
        "for col in dummy_cols:\n",
        "  enc = OneHotEncoder(handle_unknown='ignore',sparse=False) \n",
        "  dummy_train = enc.fit_transform(train[col].to_numpy().reshape(-1, 1))\n",
        "  \n",
        "  train = dummy_transform(train,enc,col)\n",
        "  local_test = dummy_transform(local_test,enc,col)\n",
        "  test = dummy_transform(test,enc,col)\n",
        "  print('encoding',col)\n",
        "\n",
        "train.drop(dummy_cols,axis =1,inplace = True )\n",
        "test.drop(dummy_cols,axis =1,inplace = True )\n"
      ],
      "metadata": {
        "id": "TGH6katghs3W",
        "colab": {
          "base_uri": "https://localhost:8080/"
        },
        "outputId": "8d1647a9-b001-4da8-e3a8-0195cf55410c"
      },
      "execution_count": 17,
      "outputs": [
        {
          "output_type": "stream",
          "name": "stdout",
          "text": [
            "encoding M4\n",
            "encoding OS_id_30\n",
            "encoding DeviceType\n",
            "encoding M7\n",
            "encoding M2\n",
            "encoding device_name\n",
            "encoding M3\n",
            "encoding M9\n",
            "encoding M6\n",
            "encoding ProductCD\n",
            "encoding R_emaildomain_2\n",
            "encoding M8\n",
            "encoding M1\n",
            "encoding P_emaildomain_3\n",
            "encoding P_emaildomain_2\n",
            "encoding M5\n",
            "encoding card4\n",
            "encoding R_emaildomain_3\n",
            "encoding card6\n"
          ]
        }
      ]
    },
    {
      "cell_type": "code",
      "source": [
        "def frequency_encoder(x,groupby):\n",
        "  if x == None:\n",
        "    return groupby.get(np.nan)\n",
        "  else:\n",
        "    return groupby.get(x)\n",
        "\n",
        "\n",
        "  # large_cats\n",
        "for col in large_cats:\n",
        "  freq_enc = (train.groupby(col,dropna=False  # to prevent loss of information\n",
        "                            ).size()) / len(train)\n",
        "  train[col+'freq'] = train[col].apply(lambda x : frequency_encoder(x,freq_enc))\n",
        "  test[col+'freq'] = test[col].apply(lambda x : frequency_encoder(x,freq_enc))\n",
        "  local_test[col+'freq'] = local_test[col].apply(lambda x : frequency_encoder(x,freq_enc))\n",
        "\n",
        "train.drop(large_cats,axis = 1,inplace = True)\n",
        "test.drop(large_cats,axis = 1,inplace = True)\n",
        "local_test.drop(large_cats,axis = 1,inplace = True)"
      ],
      "metadata": {
        "id": "FQP9TPz3dZ0C"
      },
      "execution_count": 19,
      "outputs": []
    },
    {
      "cell_type": "markdown",
      "metadata": {
        "id": "xcCP4HTGVU8c"
      },
      "source": [
        "### Column Imputation\n",
        "How are we dealing with NaN/Missing/Infinite Values?\n",
        "\n",
        "To use SMOTE we must remove np.infs and NaNs,\n",
        "- So we initially drop columns with less than 80% non-NA values.\n",
        "- Then, we drop rows containing NaN values.\n",
        "\n",
        "This using performance resulted in a higher performance on \n",
        "balanced score measures than keeping NaNs and not using SMOTE.\n",
        "\n",
        "\n",
        "\n"
      ]
    },
    {
      "cell_type": "code",
      "source": [
        "high_na = train.columns[train.isnull().sum()/len(train) > 0.2]\n",
        "train_na = train.drop(high_na, axis=1)\n",
        "test = test.drop(high_na, axis=1)\n",
        "local_test = local_test.drop(high_na, axis=1)"
      ],
      "metadata": {
        "id": "nuUNmLH6dpfW"
      },
      "execution_count": 20,
      "outputs": []
    },
    {
      "cell_type": "code",
      "source": [
        "nulls = train_na.isnull().sum()/len(train_na) #as a percentage\n",
        "nulls[nulls.values > 0].sort_values(ascending=False).plot.bar()\n",
        "plt.title('Columns with non-zero NaN %')\n",
        "plt.ylabel('NaNs as %')\n",
        "plt.show()\n",
        "\n",
        "train_no_na = train_na[~train_na.isin([np.nan, np.inf, -np.inf]).any(1)]"
      ],
      "metadata": {
        "id": "zr2zbMLZbE10",
        "colab": {
          "base_uri": "https://localhost:8080/",
          "height": 431
        },
        "outputId": "5c86b598-22ba-45b0-b9c3-925875f267a2"
      },
      "execution_count": 39,
      "outputs": [
        {
          "output_type": "display_data",
          "data": {
            "text/plain": [
              "<Figure size 432x288 with 1 Axes>"
            ],
            "image/png": "[encoded data removed]"
          },
          "metadata": {
            "needs_background": "light"
          }
        }
      ]
    },
    {
      "cell_type": "markdown",
      "metadata": {
        "id": "VAxxagslTJ6r"
      },
      "source": [
        "### Outlier removal\n",
        "Since we are using ensemble tree methods that are robust to outliers we choose not to perform outlier removal. \\\n",
        " Doing it in a feature agnostic manner would destroy information on anomalies and doing so otherwise would require pruning each column.\n"
      ]
    },
    {
      "cell_type": "markdown",
      "metadata": {
        "id": "KLJf4s37RJ-F"
      },
      "source": [
        "### Class Balancing\n",
        "To perform class balancing we use SMOTE from Imbalanced Learn, to create synthetic data for the minority(isFraud = 1) class."
      ]
    },
    {
      "cell_type": "code",
      "source": [
        "\n",
        "X_train, y_train = train_no_na.drop('isFraud',axis = 1), train_no_na['isFraud']\n",
        "\n",
        "oversample = over_sampling.SMOTE()\n",
        "X_train, y_train = oversample.fit_resample(X_train, y_train)\n",
        "\n",
        "X_train.drop('TransactionID', axis=1, inplace = True)\n",
        "X_test, y_test = local_test.drop(['isFraud', 'TransactionID'], axis = 1), local_test['isFraud']"
      ],
      "metadata": {
        "id": "094CmyxEKjqB"
      },
      "execution_count": 22,
      "outputs": []
    },
    {
      "cell_type": "code",
      "source": [
        "y_train.value_counts(normalize = True).plot(kind= 'barh')\n",
        "plt.title('% of class')\n",
        "plt.ylabel('isFraud (1 = Fraud)')\n",
        "plt.show()"
      ],
      "metadata": {
        "id": "Hwv_2VUQrDB-",
        "colab": {
          "base_uri": "https://localhost:8080/",
          "height": 281
        },
        "outputId": "ef0de49a-158d-4699-c986-8722cfeb569a"
      },
      "execution_count": 23,
      "outputs": [
        {
          "output_type": "display_data",
          "data": {
            "text/plain": [
              "<Figure size 432x288 with 1 Axes>"
            ],
            "image/png": "[encoded data removed]"
          },
          "metadata": {
            "needs_background": "light"
          }
        }
      ]
    },
    {
      "cell_type": "markdown",
      "metadata": {
        "id": "nvXyRlGfW-DY"
      },
      "source": [
        "## Model Creation & Fitting\n"
      ]
    },
    {
      "cell_type": "markdown",
      "metadata": {
        "id": "9WZU6VvCTQyy"
      },
      "source": [
        "### Individiual models"
      ]
    },
    {
      "cell_type": "code",
      "execution_count": 26,
      "metadata": {
        "id": "Ix_bdnscBIGN",
        "colab": {
          "base_uri": "https://localhost:8080/"
        },
        "outputId": "04daacb5-5683-4af3-8c41-b68fde24f00a"
      },
      "outputs": [
        {
          "output_type": "stream",
          "name": "stdout",
          "text": [
            "[0]\tvalidation_0-auc:0.877425\tvalidation_1-auc:0.72619\n",
            "Multiple eval metrics have been passed: 'validation_1-auc' will be used for early stopping.\n",
            "\n",
            "Will train until validation_1-auc hasn't improved in 10 rounds.\n",
            "[1]\tvalidation_0-auc:0.877425\tvalidation_1-auc:0.72619\n",
            "[2]\tvalidation_0-auc:0.877425\tvalidation_1-auc:0.72619\n",
            "[3]\tvalidation_0-auc:0.890298\tvalidation_1-auc:0.724303\n",
            "[4]\tvalidation_0-auc:0.890298\tvalidation_1-auc:0.724303\n",
            "[5]\tvalidation_0-auc:0.893692\tvalidation_1-auc:0.724303\n",
            "[6]\tvalidation_0-auc:0.890298\tvalidation_1-auc:0.724303\n",
            "[7]\tvalidation_0-auc:0.893692\tvalidation_1-auc:0.724303\n",
            "[8]\tvalidation_0-auc:0.893692\tvalidation_1-auc:0.724303\n",
            "[9]\tvalidation_0-auc:0.893692\tvalidation_1-auc:0.724303\n",
            "[10]\tvalidation_0-auc:0.893692\tvalidation_1-auc:0.724303\n",
            "Stopping. Best iteration:\n",
            "[0]\tvalidation_0-auc:0.877425\tvalidation_1-auc:0.72619\n",
            "\n"
          ]
        },
        {
          "output_type": "execute_result",
          "data": {
            "text/plain": [
              "0.7556177396958715"
            ]
          },
          "metadata": {},
          "execution_count": 26
        }
      ],
      "source": [
        "#naw4\n",
        "from sklearn.metrics import accuracy_score\n",
        "\n",
        "import xgboost as xgb\n",
        "\n",
        "xgb_cl = xgb.XGBClassifier(\n",
        "    # tree_method='gpu_hist', gpu_id=0,\n",
        "    # max_depth = 10,\n",
        "    n_estimators=500,\n",
        "    learning_rate = 0.01\n",
        "    )\n",
        "eval_set  = [(X_train, y_train), (X_test, y_test)]\n",
        "\n",
        "xgb_cl.fit(X_train, y_train,\n",
        "           eval_set = eval_set,\n",
        "           eval_metric = 'auc',\n",
        "          #  verbose=True,\n",
        "           early_stopping_rounds=10,\n",
        "           )\n",
        "\n",
        "preds = xgb_cl.predict(X_test)\n",
        "accuracy_score(y_test, preds)"
      ]
    },
    {
      "cell_type": "code",
      "source": [
        "from sklearn.model_selection import RandomizedSearchCV\n",
        "from sklearn.model_selection import GridSearchCV\n",
        "\n",
        "\n",
        "\n",
        "xgb_cl = xgb.XGBClassifier(\n",
        "    # tree_method='gpu_hist', gpu_id=0\n",
        "    )\n",
        "params = { 'max_depth': [3, 5, 10, 15],\n",
        "           'learning_rate': [0.01, 0.1],\n",
        "           'subsample': np.arange(0.4, 1.0, 0.2),\n",
        "           'colsample_bytree': np.arange(0.4, 1.0, 0.2),\n",
        "           'colsample_bylevel': np.arange(0.4, 1.0, 0.2),\n",
        "           'n_estimators': [100, 500, 1000]\n",
        "\n",
        "          }\n",
        "fit_params = {\n",
        "          'early_stopping_rounds': 10,\n",
        "          'eval_set' : eval_set,\n",
        "          'eval_metric': 'auc',\n",
        "          'verbose': True\n",
        "}\n",
        "\n",
        "clf = RandomizedSearchCV(estimator=xgb_cl,\n",
        "                         param_distributions=params,\n",
        "                         n_jobs = -1,\n",
        "                          scoring='roc_auc',\n",
        "                         n_iter=5,\n",
        "                         verbose=1\n",
        "                         )\n",
        "\n",
        "search = clf.fit(X_train, y_train,**fit_params)\n",
        "path = '/content/drive/MyDrive/Python/ID5059-GroupProject/'\n",
        "clf.best_estimator_.save_model(path + 'optim_xgb.json')\n",
        "preds_optimised = clf.predict(X_test)"
      ],
      "metadata": {
        "id": "r-6G8PoRyIG2"
      },
      "execution_count": null,
      "outputs": []
    },
    {
      "cell_type": "code",
      "source": [
        "xgb.plot_importance(xgb_cl)\n",
        "plt.show()"
      ],
      "metadata": {
        "colab": {
          "base_uri": "https://localhost:8080/",
          "height": 295
        },
        "id": "Oz4sDEXczv3u",
        "outputId": "c8b0734b-0c6a-40d3-fa46-ff82d2277ae6"
      },
      "execution_count": 46,
      "outputs": [
        {
          "output_type": "display_data",
          "data": {
            "text/plain": [
              "<Figure size 432x288 with 1 Axes>"
            ],
            "image/png": "[encoded data removed]"
          },
          "metadata": {
            "needs_background": "light"
          }
        }
      ]
    },
    {
      "cell_type": "code",
      "source": [
        "from sklearn.metrics import ConfusionMatrixDisplay\n",
        "ConfusionMatrixDisplay.from_predictions(y_test, preds,normalize='true')\n",
        "plt.title('Confusion Matrix for XGBoost')\n",
        "plt.show()"
      ],
      "metadata": {
        "colab": {
          "base_uri": "https://localhost:8080/",
          "height": 313
        },
        "id": "eGbr8-QRKSs-",
        "outputId": "6aff6525-b815-4c81-a167-5b9becef5c4a"
      },
      "execution_count": 27,
      "outputs": [
        {
          "output_type": "execute_result",
          "data": {
            "text/plain": [
              "Text(0.5, 1.0, 'Confusion Matrix for XGBoost')"
            ]
          },
          "metadata": {},
          "execution_count": 27
        },
        {
          "output_type": "display_data",
          "data": {
            "text/plain": [
              "<Figure size 432x288 with 2 Axes>"
            ],
            "image/png": "[encoded data removed]"
          },
          "metadata": {
            "needs_background": "light"
          }
        }
      ]
    },
    {
      "cell_type": "code",
      "execution_count": null,
      "metadata": {
        "id": "h7Qd-bjGfktV"
      },
      "outputs": [],
      "source": [
        "#jde1\n",
        "from sklearn.ensemble import BaggingClassifier\n",
        "from sklearn.preprocessing import StandardScaler\n",
        "from sklearn.pipeline import make_pipeline\n",
        "from sklearn.model_selection import GridSearchCV\n",
        "\n",
        "param_grid = [\n",
        "  {'n_estimators': [10, 20, 50, 100, 500]}\n",
        " ]\n",
        "\n",
        "bag = BaggingClassifier(max_features=0.8, max_samples=0.8)\n",
        "\n",
        "scores = [\"precision\", \"roc_auc\"]\n",
        "\n",
        "for score in scores:\n",
        "    print(\"# Tuning hyper-parameters for %s\" % score)\n",
        "    print()\n",
        "\n",
        "    bag_clf = GridSearchCV(bag,\n",
        "                           param_grid,\n",
        "                           scoring=score,\n",
        "                           n_jobs = -1)\n",
        "    bag_clf.fit(X_train, y_train)\n",
        "\n",
        "    print(\"Best parameters set found on development set:\")\n",
        "    print()\n",
        "    print(bag_clf.best_params_)\n",
        "    print()\n",
        "    print(\"Grid scores on development set:\")\n",
        "    print()\n",
        "    means = bag_clf.cv_results_[\"mean_test_score\"]\n",
        "    stds = bag_clf.cv_results_[\"std_test_score\"]\n",
        "    for mean, std, params in zip(means, stds, bag_clf.cv_results_[\"params\"]):\n",
        "        print(\"%0.3f (+/-%0.03f) for %r\" % (mean, std * 2, params))\n",
        "    print()"
      ]
    },
    {
      "cell_type": "code",
      "execution_count": null,
      "metadata": {
        "id": "sBJYuF2MtIRI"
      },
      "outputs": [],
      "source": [
        "preds = bag_clf.predict(X_test)\n",
        "accuracy_score(y_test, preds)"
      ]
    },
    {
      "cell_type": "code",
      "execution_count": null,
      "metadata": {
        "id": "_Gm1JyaFo8Vg"
      },
      "outputs": [],
      "source": [
        "ConfusionMatrixDisplay.from_predictions(y_test, preds,normalize='true')\n",
        "plt.title('Confusion Matrix for Bagging Classifier')"
      ]
    },
    {
      "cell_type": "code",
      "source": [
        "! pip uninstall lightgbm -y\n",
        "\n",
        "# install lightgbm GPU\n",
        "! pip install lightgbm --install-option=--gpu --install-option=\"--opencl-include-dir=/usr/local/cuda/include/\" --install-option=\"--opencl-library=/usr/local/cuda/lib64/libOpenCL.so\"\n"
      ],
      "metadata": {
        "id": "9nqv7c6NnUr5"
      },
      "execution_count": null,
      "outputs": []
    },
    {
      "cell_type": "code",
      "source": [
        "#anli\n",
        "import lightgbm as lgb\n",
        "from sklearn.metrics import roc_auc_score\n",
        "\n",
        "params = {'num_leaves': 491,\n",
        "          'min_child_weight': 0.03454472573214212,\n",
        "          'feature_fraction': 0.3797454081646243,\n",
        "          'bagging_fraction': 0.4181193142567742,\n",
        "          'min_data_in_leaf': 106,\n",
        "          'objective': 'binary',\n",
        "          'max_depth': -1,\n",
        "          # 'device':'gpu',\n",
        "          'learning_rate': 0.006883242363721497,\n",
        "          \"boosting_type\": \"gbdt\",\n",
        "          \"bagging_seed\": 11,\n",
        "          \"metric\": 'auc',\n",
        "          \"verbosity\": -1,\n",
        "          'reg_alpha': 0.3899927210061127,\n",
        "          'reg_lambda': 0.6485237330340494,\n",
        "          'random_state': 5313,\n",
        "         }\n",
        "from sklearn.model_selection import train_test_split\n",
        "score = 0\n",
        "\n",
        "feature_importances = pd.DataFrame()\n",
        "\n",
        "dtrain = lgb.Dataset(X_train, label=y_train)\n",
        "dvalid = lgb.Dataset(X_test, label=y_test)\n",
        "lgb_clf = lgb.train(params, dtrain, 100, valid_sets = [dtrain, dvalid])\n",
        "\n",
        "feature_importances = lgb_clf.feature_importance()\n",
        "\n",
        "y_pred_valid = lgb_clf.predict(X_test)\n",
        "score = roc_auc_score(y_test, y_pred_valid)\n",
        "\n",
        "print(f\"AUC = {score}\")"
      ],
      "metadata": {
        "id": "T5oFMrf8nGk8",
        "colab": {
          "base_uri": "https://localhost:8080/"
        },
        "outputId": "98bf705a-67ad-47db-c4ae-c5fc4e798afb"
      },
      "execution_count": 66,
      "outputs": [
        {
          "output_type": "stream",
          "name": "stdout",
          "text": [
            "[1]\ttraining's auc: 0.990555\tvalid_1's auc: 0.761943\n",
            "[2]\ttraining's auc: 0.994956\tvalid_1's auc: 0.795775\n",
            "[3]\ttraining's auc: 0.995787\tvalid_1's auc: 0.811099\n",
            "[4]\ttraining's auc: 0.996077\tvalid_1's auc: 0.817684\n",
            "[5]\ttraining's auc: 0.996301\tvalid_1's auc: 0.822728\n",
            "[6]\ttraining's auc: 0.996631\tvalid_1's auc: 0.83397\n",
            "[7]\ttraining's auc: 0.996611\tvalid_1's auc: 0.832853\n",
            "[8]\ttraining's auc: 0.996759\tvalid_1's auc: 0.834938\n",
            "[9]\ttraining's auc: 0.996767\tvalid_1's auc: 0.834867\n",
            "[10]\ttraining's auc: 0.996924\tvalid_1's auc: 0.837217\n",
            "[11]\ttraining's auc: 0.997011\tvalid_1's auc: 0.838933\n",
            "[12]\ttraining's auc: 0.997113\tvalid_1's auc: 0.838547\n",
            "[13]\ttraining's auc: 0.997149\tvalid_1's auc: 0.842402\n",
            "[14]\ttraining's auc: 0.99722\tvalid_1's auc: 0.843425\n",
            "[15]\ttraining's auc: 0.997244\tvalid_1's auc: 0.843708\n",
            "[16]\ttraining's auc: 0.997364\tvalid_1's auc: 0.844407\n",
            "[17]\ttraining's auc: 0.99736\tvalid_1's auc: 0.843925\n",
            "[18]\ttraining's auc: 0.997388\tvalid_1's auc: 0.844544\n",
            "[19]\ttraining's auc: 0.997385\tvalid_1's auc: 0.846389\n",
            "[20]\ttraining's auc: 0.997392\tvalid_1's auc: 0.846535\n",
            "[21]\ttraining's auc: 0.997403\tvalid_1's auc: 0.84817\n",
            "[22]\ttraining's auc: 0.997419\tvalid_1's auc: 0.848905\n",
            "[23]\ttraining's auc: 0.99741\tvalid_1's auc: 0.849385\n",
            "[24]\ttraining's auc: 0.9974\tvalid_1's auc: 0.849639\n",
            "[25]\ttraining's auc: 0.997406\tvalid_1's auc: 0.851265\n",
            "[26]\ttraining's auc: 0.997416\tvalid_1's auc: 0.851733\n",
            "[27]\ttraining's auc: 0.99741\tvalid_1's auc: 0.851166\n",
            "[28]\ttraining's auc: 0.997413\tvalid_1's auc: 0.85116\n",
            "[29]\ttraining's auc: 0.997419\tvalid_1's auc: 0.851211\n",
            "[30]\ttraining's auc: 0.997422\tvalid_1's auc: 0.851335\n",
            "[31]\ttraining's auc: 0.997444\tvalid_1's auc: 0.851608\n",
            "[32]\ttraining's auc: 0.997445\tvalid_1's auc: 0.85174\n",
            "[33]\ttraining's auc: 0.997438\tvalid_1's auc: 0.851379\n",
            "[34]\ttraining's auc: 0.997447\tvalid_1's auc: 0.851274\n",
            "[35]\ttraining's auc: 0.997461\tvalid_1's auc: 0.851562\n",
            "[36]\ttraining's auc: 0.997458\tvalid_1's auc: 0.85163\n",
            "[37]\ttraining's auc: 0.997457\tvalid_1's auc: 0.851297\n",
            "[38]\ttraining's auc: 0.997458\tvalid_1's auc: 0.850976\n",
            "[39]\ttraining's auc: 0.997461\tvalid_1's auc: 0.850768\n",
            "[40]\ttraining's auc: 0.997465\tvalid_1's auc: 0.850746\n",
            "[41]\ttraining's auc: 0.997476\tvalid_1's auc: 0.851078\n",
            "[42]\ttraining's auc: 0.997481\tvalid_1's auc: 0.85106\n",
            "[43]\ttraining's auc: 0.99749\tvalid_1's auc: 0.851585\n",
            "[44]\ttraining's auc: 0.99749\tvalid_1's auc: 0.851671\n",
            "[45]\ttraining's auc: 0.997488\tvalid_1's auc: 0.851499\n",
            "[46]\ttraining's auc: 0.997501\tvalid_1's auc: 0.851983\n",
            "[47]\ttraining's auc: 0.99752\tvalid_1's auc: 0.852373\n",
            "[48]\ttraining's auc: 0.997517\tvalid_1's auc: 0.852231\n",
            "[49]\ttraining's auc: 0.997536\tvalid_1's auc: 0.852343\n",
            "[50]\ttraining's auc: 0.99754\tvalid_1's auc: 0.85241\n",
            "[51]\ttraining's auc: 0.99754\tvalid_1's auc: 0.852355\n",
            "[52]\ttraining's auc: 0.99754\tvalid_1's auc: 0.852442\n",
            "[53]\ttraining's auc: 0.997547\tvalid_1's auc: 0.852559\n",
            "[54]\ttraining's auc: 0.997567\tvalid_1's auc: 0.852564\n",
            "[55]\ttraining's auc: 0.997569\tvalid_1's auc: 0.852495\n",
            "[56]\ttraining's auc: 0.997578\tvalid_1's auc: 0.852876\n",
            "[57]\ttraining's auc: 0.99757\tvalid_1's auc: 0.852529\n",
            "[58]\ttraining's auc: 0.99757\tvalid_1's auc: 0.853928\n",
            "[59]\ttraining's auc: 0.997569\tvalid_1's auc: 0.854417\n",
            "[60]\ttraining's auc: 0.997571\tvalid_1's auc: 0.854916\n",
            "[61]\ttraining's auc: 0.997602\tvalid_1's auc: 0.855042\n",
            "[62]\ttraining's auc: 0.997601\tvalid_1's auc: 0.854632\n",
            "[63]\ttraining's auc: 0.9976\tvalid_1's auc: 0.854433\n",
            "[64]\ttraining's auc: 0.997609\tvalid_1's auc: 0.854362\n",
            "[65]\ttraining's auc: 0.99762\tvalid_1's auc: 0.854587\n",
            "[66]\ttraining's auc: 0.997619\tvalid_1's auc: 0.85444\n",
            "[67]\ttraining's auc: 0.99762\tvalid_1's auc: 0.854994\n",
            "[68]\ttraining's auc: 0.997629\tvalid_1's auc: 0.855319\n",
            "[69]\ttraining's auc: 0.997631\tvalid_1's auc: 0.855477\n",
            "[70]\ttraining's auc: 0.997636\tvalid_1's auc: 0.855428\n",
            "[71]\ttraining's auc: 0.997652\tvalid_1's auc: 0.855587\n",
            "[72]\ttraining's auc: 0.997654\tvalid_1's auc: 0.855722\n",
            "[73]\ttraining's auc: 0.997673\tvalid_1's auc: 0.855798\n",
            "[74]\ttraining's auc: 0.997675\tvalid_1's auc: 0.8557\n",
            "[75]\ttraining's auc: 0.997688\tvalid_1's auc: 0.855778\n",
            "[76]\ttraining's auc: 0.997689\tvalid_1's auc: 0.855813\n",
            "[77]\ttraining's auc: 0.997692\tvalid_1's auc: 0.855944\n",
            "[78]\ttraining's auc: 0.997701\tvalid_1's auc: 0.856054\n",
            "[79]\ttraining's auc: 0.997705\tvalid_1's auc: 0.855882\n",
            "[80]\ttraining's auc: 0.997704\tvalid_1's auc: 0.855842\n",
            "[81]\ttraining's auc: 0.997706\tvalid_1's auc: 0.855771\n",
            "[82]\ttraining's auc: 0.997706\tvalid_1's auc: 0.855657\n",
            "[83]\ttraining's auc: 0.997713\tvalid_1's auc: 0.856024\n",
            "[84]\ttraining's auc: 0.99773\tvalid_1's auc: 0.855999\n",
            "[85]\ttraining's auc: 0.997735\tvalid_1's auc: 0.856127\n",
            "[86]\ttraining's auc: 0.997733\tvalid_1's auc: 0.856358\n",
            "[87]\ttraining's auc: 0.99774\tvalid_1's auc: 0.856375\n",
            "[88]\ttraining's auc: 0.997739\tvalid_1's auc: 0.856214\n",
            "[89]\ttraining's auc: 0.997739\tvalid_1's auc: 0.856004\n",
            "[90]\ttraining's auc: 0.99774\tvalid_1's auc: 0.85596\n",
            "[91]\ttraining's auc: 0.99775\tvalid_1's auc: 0.855827\n",
            "[92]\ttraining's auc: 0.99775\tvalid_1's auc: 0.855679\n",
            "[93]\ttraining's auc: 0.997756\tvalid_1's auc: 0.855805\n",
            "[94]\ttraining's auc: 0.997762\tvalid_1's auc: 0.855992\n",
            "[95]\ttraining's auc: 0.997761\tvalid_1's auc: 0.856042\n",
            "[96]\ttraining's auc: 0.997764\tvalid_1's auc: 0.856015\n",
            "[97]\ttraining's auc: 0.997765\tvalid_1's auc: 0.856017\n",
            "[98]\ttraining's auc: 0.997768\tvalid_1's auc: 0.855922\n",
            "[99]\ttraining's auc: 0.997772\tvalid_1's auc: 0.856271\n",
            "[100]\ttraining's auc: 0.997773\tvalid_1's auc: 0.856376\n",
            "AUC = 0.8563763736820948\n"
          ]
        }
      ]
    },
    {
      "cell_type": "code",
      "source": [
        "#wonchoi\n",
        "\n",
        "from sklearn.ensemble import RandomForestClassifier, BaggingRegressor\n",
        "from sklearn.model_selection import GridSearchCV\n",
        "from sklearn.metrics import mean_squared_error as mse\n",
        "\n",
        "# Create a random forest regressor model with the best hyperparameter fits \n",
        "rf_final = RandomForestClassifier(n_estimators = 90, max_depth = 5, n_jobs = -1, \n",
        "                                 oob_score = True, random_state = 30801)\n",
        "rf_final = rf_final.fit(X_train, y_train)\n",
        "y_pred = rf_final.predict(X_train)\n",
        "\n",
        "# Calculate its rmse to compare with the previous model\n",
        "res_rmse = mse(y_train, y_pred, squared = True)\n",
        "\n",
        "# Calculate its oob score\n",
        "res_oob = rf_final.oob_score_\n",
        "print('Root mean squared error:', \n",
        "      res_rmse,'Out of box score of final model: ', res_oob)"
      ],
      "metadata": {
        "colab": {
          "base_uri": "https://localhost:8080/"
        },
        "id": "f67HRIfpoOau",
        "outputId": "77d0af70-1595-4b8b-8e12-007c186b9609"
      },
      "execution_count": 64,
      "outputs": [
        {
          "output_type": "stream",
          "name": "stdout",
          "text": [
            "Root mean squared error: 0.07495648225232725 Out of box score of final model:  0.9218723983955196\n"
          ]
        }
      ]
    },
    {
      "cell_type": "code",
      "source": [
        "#wonchoi - Hyperparameter turning for RF\n",
        "\n",
        "from sklearn.ensemble import RandomForestClassifier, BaggingRegressor\n",
        "from sklearn.model_selection import GridSearchCV\n",
        "\n",
        "# Create a base model\n",
        "rf = RandomForestClassifier(n_estimators= 30, max_depth = 2, oob_score = True, random_state = 30000)\n",
        "\n",
        "# Create a parameter grid to conduct a grid search for hyperparameters\n",
        "\n",
        "param_grid = { 'bootstrap' : [True], \n",
        "           'max_depth': [3, 5, 6, 10, 15, 20],\n",
        "           'n_estimators': [100, 500, 1000]}\n",
        "\n",
        "# Instantiate the grid search model\n",
        "grid_search = GridSearchCV(estimator = rf, param_grid = param_grid, cv = 2, n_jobs = -1, verbose = 0)\n",
        "\n",
        "# Fit the grid search to the data and calculate its oob score\n",
        "grid_search.fit(X_train, y_train)\n",
        "grid_search.best_params_"
      ],
      "metadata": {
        "id": "6KfcA5GRpI9p"
      },
      "execution_count": null,
      "outputs": []
    },
    {
      "cell_type": "code",
      "source": [
        "# yao\n",
        "#Import required modules\n",
        "from sklearn.ensemble import AdaBoostClassifier\n",
        "\n",
        "#Build the model\n",
        "clf = AdaBoostClassifier(n_estimators=100, random_state=0)\n",
        "adaModel = clf.fit(X_train, y_train)\n",
        "\n",
        "#Adaboost Score\n",
        "# adaScore = adaModel.score(X_test, y_test)"
      ],
      "metadata": {
        "id": "6Np8EM8Qt-WN"
      },
      "execution_count": 52,
      "outputs": []
    },
    {
      "cell_type": "markdown",
      "metadata": {
        "id": "OVMf-em_TXKe"
      },
      "source": [
        "### Model Ensembling\n",
        "Having fitted several models, we now combine them to try squeeze out any further predictive performance. This is achieved through the use of SKLearn's  `StackingClassifier`."
      ]
    },
    {
      "cell_type": "code",
      "execution_count": 62,
      "metadata": {
        "id": "uhrGl2hJevUP",
        "colab": {
          "base_uri": "https://localhost:8080/",
          "height": 381
        },
        "outputId": "eb8a053c-472c-4e71-8154-26262a9bd5cd"
      },
      "outputs": [
        {
          "output_type": "error",
          "ename": "KeyboardInterrupt",
          "evalue": "ignored",
          "traceback": [
            "\u001b[0;31m---------------------------------------------------------------------------\u001b[0m",
            "\u001b[0;31mKeyboardInterrupt\u001b[0m                         Traceback (most recent call last)",
            "\u001b[0;32m<ipython-input-62-6a0e6d67638a>\u001b[0m in \u001b[0;36m<module>\u001b[0;34m()\u001b[0m\n\u001b[1;32m      7\u001b[0m           }\n\u001b[1;32m      8\u001b[0m \u001b[0mstacked_model\u001b[0m \u001b[0;34m=\u001b[0m \u001b[0mstack_models\u001b[0m\u001b[0;34m(\u001b[0m\u001b[0;34m*\u001b[0m\u001b[0mmodels\u001b[0m\u001b[0;34m.\u001b[0m\u001b[0mitems\u001b[0m\u001b[0;34m(\u001b[0m\u001b[0;34m)\u001b[0m\u001b[0;34m,\u001b[0m \u001b[0mcv_folds\u001b[0m\u001b[0;34m=\u001b[0m\u001b[0;36m3\u001b[0m\u001b[0;34m)\u001b[0m\u001b[0;34m\u001b[0m\u001b[0;34m\u001b[0m\u001b[0m\n\u001b[0;32m----> 9\u001b[0;31m \u001b[0mstacked_model\u001b[0m\u001b[0;34m.\u001b[0m\u001b[0mfit\u001b[0m\u001b[0;34m(\u001b[0m\u001b[0mX_train\u001b[0m\u001b[0;34m,\u001b[0m \u001b[0my_train\u001b[0m\u001b[0;34m)\u001b[0m\u001b[0;34m\u001b[0m\u001b[0;34m\u001b[0m\u001b[0m\n\u001b[0m\u001b[1;32m     10\u001b[0m \u001b[0mmodels\u001b[0m\u001b[0;34m[\u001b[0m\u001b[0;34m'stacked'\u001b[0m\u001b[0;34m]\u001b[0m \u001b[0;34m=\u001b[0m \u001b[0mstacked_model\u001b[0m\u001b[0;34m\u001b[0m\u001b[0;34m\u001b[0m\u001b[0m\n\u001b[1;32m     11\u001b[0m \u001b[0;34m\u001b[0m\u001b[0m\n",
            "\u001b[0;32m/usr/local/lib/python3.7/dist-packages/sklearn/ensemble/_stacking.py\u001b[0m in \u001b[0;36mfit\u001b[0;34m(self, X, y, sample_weight)\u001b[0m\n\u001b[1;32m    486\u001b[0m         \u001b[0mself\u001b[0m\u001b[0;34m.\u001b[0m\u001b[0m_le\u001b[0m \u001b[0;34m=\u001b[0m \u001b[0mLabelEncoder\u001b[0m\u001b[0;34m(\u001b[0m\u001b[0;34m)\u001b[0m\u001b[0;34m.\u001b[0m\u001b[0mfit\u001b[0m\u001b[0;34m(\u001b[0m\u001b[0my\u001b[0m\u001b[0;34m)\u001b[0m\u001b[0;34m\u001b[0m\u001b[0;34m\u001b[0m\u001b[0m\n\u001b[1;32m    487\u001b[0m         \u001b[0mself\u001b[0m\u001b[0;34m.\u001b[0m\u001b[0mclasses_\u001b[0m \u001b[0;34m=\u001b[0m \u001b[0mself\u001b[0m\u001b[0;34m.\u001b[0m\u001b[0m_le\u001b[0m\u001b[0;34m.\u001b[0m\u001b[0mclasses_\u001b[0m\u001b[0;34m\u001b[0m\u001b[0;34m\u001b[0m\u001b[0m\n\u001b[0;32m--> 488\u001b[0;31m         \u001b[0;32mreturn\u001b[0m \u001b[0msuper\u001b[0m\u001b[0;34m(\u001b[0m\u001b[0;34m)\u001b[0m\u001b[0;34m.\u001b[0m\u001b[0mfit\u001b[0m\u001b[0;34m(\u001b[0m\u001b[0mX\u001b[0m\u001b[0;34m,\u001b[0m \u001b[0mself\u001b[0m\u001b[0;34m.\u001b[0m\u001b[0m_le\u001b[0m\u001b[0;34m.\u001b[0m\u001b[0mtransform\u001b[0m\u001b[0;34m(\u001b[0m\u001b[0my\u001b[0m\u001b[0;34m)\u001b[0m\u001b[0;34m,\u001b[0m \u001b[0msample_weight\u001b[0m\u001b[0;34m)\u001b[0m\u001b[0;34m\u001b[0m\u001b[0;34m\u001b[0m\u001b[0m\n\u001b[0m\u001b[1;32m    489\u001b[0m \u001b[0;34m\u001b[0m\u001b[0m\n\u001b[1;32m    490\u001b[0m     \u001b[0;34m@\u001b[0m\u001b[0mif_delegate_has_method\u001b[0m\u001b[0;34m(\u001b[0m\u001b[0mdelegate\u001b[0m\u001b[0;34m=\u001b[0m\u001b[0;34m\"final_estimator_\"\u001b[0m\u001b[0;34m)\u001b[0m\u001b[0;34m\u001b[0m\u001b[0;34m\u001b[0m\u001b[0m\n",
            "\u001b[0;32m/usr/local/lib/python3.7/dist-packages/sklearn/ensemble/_stacking.py\u001b[0m in \u001b[0;36mfit\u001b[0;34m(self, X, y, sample_weight)\u001b[0m\n\u001b[1;32m    158\u001b[0m         self.estimators_ = Parallel(n_jobs=self.n_jobs)(\n\u001b[1;32m    159\u001b[0m             \u001b[0mdelayed\u001b[0m\u001b[0;34m(\u001b[0m\u001b[0m_fit_single_estimator\u001b[0m\u001b[0;34m)\u001b[0m\u001b[0;34m(\u001b[0m\u001b[0mclone\u001b[0m\u001b[0;34m(\u001b[0m\u001b[0mest\u001b[0m\u001b[0;34m)\u001b[0m\u001b[0;34m,\u001b[0m \u001b[0mX\u001b[0m\u001b[0;34m,\u001b[0m \u001b[0my\u001b[0m\u001b[0;34m,\u001b[0m \u001b[0msample_weight\u001b[0m\u001b[0;34m)\u001b[0m\u001b[0;34m\u001b[0m\u001b[0;34m\u001b[0m\u001b[0m\n\u001b[0;32m--> 160\u001b[0;31m             \u001b[0;32mfor\u001b[0m \u001b[0mest\u001b[0m \u001b[0;32min\u001b[0m \u001b[0mall_estimators\u001b[0m\u001b[0;34m\u001b[0m\u001b[0;34m\u001b[0m\u001b[0m\n\u001b[0m\u001b[1;32m    161\u001b[0m             \u001b[0;32mif\u001b[0m \u001b[0mest\u001b[0m \u001b[0;34m!=\u001b[0m \u001b[0;34m\"drop\"\u001b[0m\u001b[0;34m\u001b[0m\u001b[0;34m\u001b[0m\u001b[0m\n\u001b[1;32m    162\u001b[0m         )\n",
            "\u001b[0;32m/usr/local/lib/python3.7/dist-packages/joblib/parallel.py\u001b[0m in \u001b[0;36m__call__\u001b[0;34m(self, iterable)\u001b[0m\n\u001b[1;32m   1054\u001b[0m \u001b[0;34m\u001b[0m\u001b[0m\n\u001b[1;32m   1055\u001b[0m             \u001b[0;32mwith\u001b[0m \u001b[0mself\u001b[0m\u001b[0;34m.\u001b[0m\u001b[0m_backend\u001b[0m\u001b[0;34m.\u001b[0m\u001b[0mretrieval_context\u001b[0m\u001b[0;34m(\u001b[0m\u001b[0;34m)\u001b[0m\u001b[0;34m:\u001b[0m\u001b[0;34m\u001b[0m\u001b[0;34m\u001b[0m\u001b[0m\n\u001b[0;32m-> 1056\u001b[0;31m                 \u001b[0mself\u001b[0m\u001b[0;34m.\u001b[0m\u001b[0mretrieve\u001b[0m\u001b[0;34m(\u001b[0m\u001b[0;34m)\u001b[0m\u001b[0;34m\u001b[0m\u001b[0;34m\u001b[0m\u001b[0m\n\u001b[0m\u001b[1;32m   1057\u001b[0m             \u001b[0;31m# Make sure that we get a last message telling us we are done\u001b[0m\u001b[0;34m\u001b[0m\u001b[0;34m\u001b[0m\u001b[0;34m\u001b[0m\u001b[0m\n\u001b[1;32m   1058\u001b[0m             \u001b[0melapsed_time\u001b[0m \u001b[0;34m=\u001b[0m \u001b[0mtime\u001b[0m\u001b[0;34m.\u001b[0m\u001b[0mtime\u001b[0m\u001b[0;34m(\u001b[0m\u001b[0;34m)\u001b[0m \u001b[0;34m-\u001b[0m \u001b[0mself\u001b[0m\u001b[0;34m.\u001b[0m\u001b[0m_start_time\u001b[0m\u001b[0;34m\u001b[0m\u001b[0;34m\u001b[0m\u001b[0m\n",
            "\u001b[0;32m/usr/local/lib/python3.7/dist-packages/joblib/parallel.py\u001b[0m in \u001b[0;36mretrieve\u001b[0;34m(self)\u001b[0m\n\u001b[1;32m    933\u001b[0m             \u001b[0;32mtry\u001b[0m\u001b[0;34m:\u001b[0m\u001b[0;34m\u001b[0m\u001b[0;34m\u001b[0m\u001b[0m\n\u001b[1;32m    934\u001b[0m                 \u001b[0;32mif\u001b[0m \u001b[0mgetattr\u001b[0m\u001b[0;34m(\u001b[0m\u001b[0mself\u001b[0m\u001b[0;34m.\u001b[0m\u001b[0m_backend\u001b[0m\u001b[0;34m,\u001b[0m \u001b[0;34m'supports_timeout'\u001b[0m\u001b[0;34m,\u001b[0m \u001b[0;32mFalse\u001b[0m\u001b[0;34m)\u001b[0m\u001b[0;34m:\u001b[0m\u001b[0;34m\u001b[0m\u001b[0;34m\u001b[0m\u001b[0m\n\u001b[0;32m--> 935\u001b[0;31m                     \u001b[0mself\u001b[0m\u001b[0;34m.\u001b[0m\u001b[0m_output\u001b[0m\u001b[0;34m.\u001b[0m\u001b[0mextend\u001b[0m\u001b[0;34m(\u001b[0m\u001b[0mjob\u001b[0m\u001b[0;34m.\u001b[0m\u001b[0mget\u001b[0m\u001b[0;34m(\u001b[0m\u001b[0mtimeout\u001b[0m\u001b[0;34m=\u001b[0m\u001b[0mself\u001b[0m\u001b[0;34m.\u001b[0m\u001b[0mtimeout\u001b[0m\u001b[0;34m)\u001b[0m\u001b[0;34m)\u001b[0m\u001b[0;34m\u001b[0m\u001b[0;34m\u001b[0m\u001b[0m\n\u001b[0m\u001b[1;32m    936\u001b[0m                 \u001b[0;32melse\u001b[0m\u001b[0;34m:\u001b[0m\u001b[0;34m\u001b[0m\u001b[0;34m\u001b[0m\u001b[0m\n\u001b[1;32m    937\u001b[0m                     \u001b[0mself\u001b[0m\u001b[0;34m.\u001b[0m\u001b[0m_output\u001b[0m\u001b[0;34m.\u001b[0m\u001b[0mextend\u001b[0m\u001b[0;34m(\u001b[0m\u001b[0mjob\u001b[0m\u001b[0;34m.\u001b[0m\u001b[0mget\u001b[0m\u001b[0;34m(\u001b[0m\u001b[0;34m)\u001b[0m\u001b[0;34m)\u001b[0m\u001b[0;34m\u001b[0m\u001b[0;34m\u001b[0m\u001b[0m\n",
            "\u001b[0;32m/usr/local/lib/python3.7/dist-packages/joblib/_parallel_backends.py\u001b[0m in \u001b[0;36mwrap_future_result\u001b[0;34m(future, timeout)\u001b[0m\n\u001b[1;32m    540\u001b[0m         AsyncResults.get from multiprocessing.\"\"\"\n\u001b[1;32m    541\u001b[0m         \u001b[0;32mtry\u001b[0m\u001b[0;34m:\u001b[0m\u001b[0;34m\u001b[0m\u001b[0;34m\u001b[0m\u001b[0m\n\u001b[0;32m--> 542\u001b[0;31m             \u001b[0;32mreturn\u001b[0m \u001b[0mfuture\u001b[0m\u001b[0;34m.\u001b[0m\u001b[0mresult\u001b[0m\u001b[0;34m(\u001b[0m\u001b[0mtimeout\u001b[0m\u001b[0;34m=\u001b[0m\u001b[0mtimeout\u001b[0m\u001b[0;34m)\u001b[0m\u001b[0;34m\u001b[0m\u001b[0;34m\u001b[0m\u001b[0m\n\u001b[0m\u001b[1;32m    543\u001b[0m         \u001b[0;32mexcept\u001b[0m \u001b[0mCfTimeoutError\u001b[0m \u001b[0;32mas\u001b[0m \u001b[0me\u001b[0m\u001b[0;34m:\u001b[0m\u001b[0;34m\u001b[0m\u001b[0;34m\u001b[0m\u001b[0m\n\u001b[1;32m    544\u001b[0m             \u001b[0;32mraise\u001b[0m \u001b[0mTimeoutError\u001b[0m \u001b[0;32mfrom\u001b[0m \u001b[0me\u001b[0m\u001b[0;34m\u001b[0m\u001b[0;34m\u001b[0m\u001b[0m\n",
            "\u001b[0;32m/usr/lib/python3.7/concurrent/futures/_base.py\u001b[0m in \u001b[0;36mresult\u001b[0;34m(self, timeout)\u001b[0m\n\u001b[1;32m    428\u001b[0m                 \u001b[0;32mreturn\u001b[0m \u001b[0mself\u001b[0m\u001b[0;34m.\u001b[0m\u001b[0m__get_result\u001b[0m\u001b[0;34m(\u001b[0m\u001b[0;34m)\u001b[0m\u001b[0;34m\u001b[0m\u001b[0;34m\u001b[0m\u001b[0m\n\u001b[1;32m    429\u001b[0m \u001b[0;34m\u001b[0m\u001b[0m\n\u001b[0;32m--> 430\u001b[0;31m             \u001b[0mself\u001b[0m\u001b[0;34m.\u001b[0m\u001b[0m_condition\u001b[0m\u001b[0;34m.\u001b[0m\u001b[0mwait\u001b[0m\u001b[0;34m(\u001b[0m\u001b[0mtimeout\u001b[0m\u001b[0;34m)\u001b[0m\u001b[0;34m\u001b[0m\u001b[0;34m\u001b[0m\u001b[0m\n\u001b[0m\u001b[1;32m    431\u001b[0m \u001b[0;34m\u001b[0m\u001b[0m\n\u001b[1;32m    432\u001b[0m             \u001b[0;32mif\u001b[0m \u001b[0mself\u001b[0m\u001b[0;34m.\u001b[0m\u001b[0m_state\u001b[0m \u001b[0;32min\u001b[0m \u001b[0;34m[\u001b[0m\u001b[0mCANCELLED\u001b[0m\u001b[0;34m,\u001b[0m \u001b[0mCANCELLED_AND_NOTIFIED\u001b[0m\u001b[0;34m]\u001b[0m\u001b[0;34m:\u001b[0m\u001b[0;34m\u001b[0m\u001b[0;34m\u001b[0m\u001b[0m\n",
            "\u001b[0;32m/usr/lib/python3.7/threading.py\u001b[0m in \u001b[0;36mwait\u001b[0;34m(self, timeout)\u001b[0m\n\u001b[1;32m    294\u001b[0m         \u001b[0;32mtry\u001b[0m\u001b[0;34m:\u001b[0m    \u001b[0;31m# restore state no matter what (e.g., KeyboardInterrupt)\u001b[0m\u001b[0;34m\u001b[0m\u001b[0;34m\u001b[0m\u001b[0m\n\u001b[1;32m    295\u001b[0m             \u001b[0;32mif\u001b[0m \u001b[0mtimeout\u001b[0m \u001b[0;32mis\u001b[0m \u001b[0;32mNone\u001b[0m\u001b[0;34m:\u001b[0m\u001b[0;34m\u001b[0m\u001b[0;34m\u001b[0m\u001b[0m\n\u001b[0;32m--> 296\u001b[0;31m                 \u001b[0mwaiter\u001b[0m\u001b[0;34m.\u001b[0m\u001b[0macquire\u001b[0m\u001b[0;34m(\u001b[0m\u001b[0;34m)\u001b[0m\u001b[0;34m\u001b[0m\u001b[0;34m\u001b[0m\u001b[0m\n\u001b[0m\u001b[1;32m    297\u001b[0m                 \u001b[0mgotit\u001b[0m \u001b[0;34m=\u001b[0m \u001b[0;32mTrue\u001b[0m\u001b[0;34m\u001b[0m\u001b[0;34m\u001b[0m\u001b[0m\n\u001b[1;32m    298\u001b[0m             \u001b[0;32melse\u001b[0m\u001b[0;34m:\u001b[0m\u001b[0;34m\u001b[0m\u001b[0;34m\u001b[0m\u001b[0m\n",
            "\u001b[0;31mKeyboardInterrupt\u001b[0m: "
          ]
        }
      ],
      "source": [
        "models = {\n",
        "          'xgb':xgb_cl,\n",
        "          'bag': bag_clf,\n",
        "          # 'lgb': lgb_clf,\n",
        "          # 'rf':rf_final,\n",
        "          'AdaBoost': adaModel\n",
        "          }\n",
        "stacked_model = stack_models(*models.items(), cv_folds=3)\n",
        "stacked_model.fit(X_train, y_train)\n",
        "models['stacked'] = stacked_model\n",
        "\n",
        "# Create a dataframe to show the performance of each model\n",
        "performance = pd.DataFrame(y_test)\n",
        "performance['stacking_prediction'] = stacked_model.predict(X_test)\n",
        "for m in stacked_model.named_estimators_:\n",
        "        performance[m] = stacked_model.named_estimators_[m].predict(X_test)"
      ]
    },
    {
      "cell_type": "code",
      "source": [
        "# See how each of our models correlate with our target\n",
        "print(\"Correlations with target column\")\n",
        "print(temp.corr()['isFraud'])"
      ],
      "metadata": {
        "id": "0HPyDsFZvrje"
      },
      "execution_count": null,
      "outputs": []
    },
    {
      "cell_type": "code",
      "source": [
        "from matplotlib import pyplot as plt\n",
        "from numpy import mean\n",
        "from numpy import std\n",
        "from sklearn.model_selection import cross_val_score, RepeatedStratifiedKFold\n",
        "\n",
        "# evaluate models using cross-validation\n",
        "def evaluate_model(model, X, y):\n",
        "\tcv = RepeatedStratifiedKFold(n_splits=3, n_repeats=2, random_state=1)\n",
        "\tscores = cross_val_score(model, X, y, scoring='roc_auc', cv=cv, n_jobs=-1)\n",
        "\treturn scores"
      ],
      "metadata": {
        "id": "hJGItkSDvtWr"
      },
      "execution_count": 68,
      "outputs": []
    },
    {
      "cell_type": "code",
      "source": [
        "# evaluate the models and store results\n",
        "results, names = list(), list()\n",
        "for name, m in models.items():\n",
        "\tscores = evaluate_model(m, X_test, y_test)\n",
        "\tresults.append(scores)\n",
        "\tnames.append(name)\n",
        "\tprint(f'>{name} {mean(scores):0.3f} ({std(scores):0.3f})')\n",
        "\n",
        "# plot model performance for comparison\n",
        "plt.boxplot(results, labels=names, showmeans=True)\n",
        "plt.show()"
      ],
      "metadata": {
        "id": "d6hHgw0-vx10"
      },
      "execution_count": null,
      "outputs": []
    },
    {
      "cell_type": "code",
      "source": [
        "get_diagnostics(*models.items(), y_true=y_test, X=X_test)"
      ],
      "metadata": {
        "id": "unbEcKHOcsR3"
      },
      "execution_count": null,
      "outputs": []
    }
  ],
  "metadata": {
    "colab": {
      "collapsed_sections": [],
      "name": "main.ipynb",
      "provenance": [],
      "include_colab_link": true
    },
    "kernelspec": {
      "display_name": "Python 3",
      "name": "python3"
    },
    "language_info": {
      "name": "python"
    }
  },
  "nbformat": 4,
  "nbformat_minor": 0
}